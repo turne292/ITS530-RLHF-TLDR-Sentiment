{
 "cells": [
  {
   "cell_type": "code",
   "execution_count": 1,
   "id": "b38460c4",
   "metadata": {},
   "outputs": [
    {
     "name": "stderr",
     "output_type": "stream",
     "text": [
      "C:\\Users\\danda\\anaconda3\\Lib\\site-packages\\transformers\\utils\\generic.py:260: UserWarning: torch.utils._pytree._register_pytree_node is deprecated. Please use torch.utils._pytree.register_pytree_node instead.\n",
      "  torch.utils._pytree._register_pytree_node(\n",
      "C:\\Users\\danda\\anaconda3\\Lib\\site-packages\\transformers\\utils\\generic.py:260: UserWarning: torch.utils._pytree._register_pytree_node is deprecated. Please use torch.utils._pytree.register_pytree_node instead.\n",
      "  torch.utils._pytree._register_pytree_node(\n"
     ]
    }
   ],
   "source": [
    "from transformers import pipeline, AutoTokenizer, AutoModelForSequenceClassification\n",
    "from datasets import load_dataset, Dataset\n",
    "import torch"
   ]
  },
  {
   "cell_type": "code",
   "execution_count": 2,
   "id": "4cfc4692",
   "metadata": {},
   "outputs": [
    {
     "name": "stdout",
     "output_type": "stream",
     "text": [
      "Using device: cuda\n"
     ]
    }
   ],
   "source": [
    "device = torch.device(\"cuda\" if torch.cuda.is_available() else \"cpu\")\n",
    "print(\"Using device:\", device)"
   ]
  },
  {
   "cell_type": "code",
   "execution_count": 3,
   "id": "4104bd3f",
   "metadata": {},
   "outputs": [
    {
     "name": "stdout",
     "output_type": "stream",
     "text": [
      "Downloading and preparing dataset csv/turne292--just_prompt_small to C:/Users/danda/.cache/huggingface/datasets/turne292___csv/turne292--just_prompt_small-797ccd9d697f29f0/0.0.0/6954658bab30a358235fa864b05cf819af0e179325c740e4bc853bcc7ec513e1...\n"
     ]
    },
    {
     "data": {
      "application/vnd.jupyter.widget-view+json": {
       "model_id": "9ce36b573a6c423390591038a99fa7ec",
       "version_major": 2,
       "version_minor": 0
      },
      "text/plain": [
       "Downloading data files:   0%|          | 0/1 [00:00<?, ?it/s]"
      ]
     },
     "metadata": {},
     "output_type": "display_data"
    },
    {
     "data": {
      "application/vnd.jupyter.widget-view+json": {
       "model_id": "0ba8a1d48a8b4fe3842456f6c8e1a3f0",
       "version_major": 2,
       "version_minor": 0
      },
      "text/plain": [
       "Downloading data:   0%|          | 0.00/82.6M [00:00<?, ?B/s]"
      ]
     },
     "metadata": {},
     "output_type": "display_data"
    },
    {
     "data": {
      "application/vnd.jupyter.widget-view+json": {
       "model_id": "20a5c4073fe545d1858d39135cb686f8",
       "version_major": 2,
       "version_minor": 0
      },
      "text/plain": [
       "Extracting data files:   0%|          | 0/1 [00:00<?, ?it/s]"
      ]
     },
     "metadata": {},
     "output_type": "display_data"
    },
    {
     "data": {
      "application/vnd.jupyter.widget-view+json": {
       "model_id": "",
       "version_major": 2,
       "version_minor": 0
      },
      "text/plain": [
       "Generating train split: 0 examples [00:00, ? examples/s]"
      ]
     },
     "metadata": {},
     "output_type": "display_data"
    },
    {
     "name": "stdout",
     "output_type": "stream",
     "text": [
      "Dataset csv downloaded and prepared to C:/Users/danda/.cache/huggingface/datasets/turne292___csv/turne292--just_prompt_small-797ccd9d697f29f0/0.0.0/6954658bab30a358235fa864b05cf819af0e179325c740e4bc853bcc7ec513e1. Subsequent calls will reuse this data.\n"
     ]
    },
    {
     "data": {
      "application/vnd.jupyter.widget-view+json": {
       "model_id": "590fd364d4d7486dbd5f73e9c4b53bec",
       "version_major": 2,
       "version_minor": 0
      },
      "text/plain": [
       "  0%|          | 0/1 [00:00<?, ?it/s]"
      ]
     },
     "metadata": {},
     "output_type": "display_data"
    },
    {
     "name": "stdout",
     "output_type": "stream",
     "text": [
      " r/relationships\n",
      "TITLE: I [19M] have a problem with being open with my girlfriend [18F] of 7 months about a sexual preference\n",
      "POST: My girlfriend and I have been together for 7 months now with very few problems, I'd say we have a pretty great relationship, enjoy each other's company and have little to no problem being open about things to each other. Lately one thing has been hindering the last part.\n",
      "\n",
      "I've had a fetish for several years now (I won't be graphic about that, but I'll go into details if someone\n"
     ]
    }
   ],
   "source": [
    "# Load dataset from Hugging Face\n",
    "dataset = load_dataset(\"turne292/just_prompt_small\")\n",
    "# Access some of the data\n",
    "data = dataset[\"train\"]\n",
    "texts = data['prompt']\n",
    "max_length = 512\n",
    "texts = [text[:max_length] for text in texts]\n",
    "print(texts[77])"
   ]
  },
  {
   "cell_type": "code",
   "execution_count": 4,
   "id": "5f66e213",
   "metadata": {},
   "outputs": [
    {
     "name": "stderr",
     "output_type": "stream",
     "text": [
      "No model was supplied, defaulted to distilbert-base-uncased-finetuned-sst-2-english and revision af0f99b (https://huggingface.co/distilbert-base-uncased-finetuned-sst-2-english).\n",
      "Using a pipeline without specifying a model name and revision in production is not recommended.\n",
      "C:\\Users\\danda\\anaconda3\\Lib\\site-packages\\transformers\\utils\\generic.py:260: UserWarning: torch.utils._pytree._register_pytree_node is deprecated. Please use torch.utils._pytree.register_pytree_node instead.\n",
      "  torch.utils._pytree._register_pytree_node(\n"
     ]
    }
   ],
   "source": [
    "# Perform sentiment analysis\n",
    "classifier = pipeline(\"sentiment-analysis\", device=0 if device.type == \"cuda\" else -1)\n",
    "\n",
    "predictions = classifier(texts)"
   ]
  },
  {
   "cell_type": "code",
   "execution_count": 5,
   "id": "6186f919",
   "metadata": {},
   "outputs": [
    {
     "data": {
      "text/plain": [
       "[{'label': 'NEGATIVE', 'score': 0.9258292317390442}]"
      ]
     },
     "execution_count": 5,
     "metadata": {},
     "output_type": "execute_result"
    }
   ],
   "source": [
    "sample=texts[77]\n",
    "classifier(sample)"
   ]
  },
  {
   "cell_type": "code",
   "execution_count": 6,
   "id": "055e5c15",
   "metadata": {},
   "outputs": [
    {
     "data": {
      "text/plain": [
       "[{'label': 'NEGATIVE', 'score': 0.7702615857124329}]"
      ]
     },
     "execution_count": 6,
     "metadata": {},
     "output_type": "execute_result"
    }
   ],
   "source": [
    "sample=texts[1034]\n",
    "classifier(sample)"
   ]
  },
  {
   "cell_type": "code",
   "execution_count": 7,
   "id": "741c2908",
   "metadata": {},
   "outputs": [],
   "source": [
    "# Label the data\n",
    "labeled_data = []\n",
    "for text, prediction in zip(texts, predictions):\n",
    "    if prediction[\"label\"] == \"POSITIVE\":\n",
    "        label = \"positive\"  # positive label\n",
    "    else:\n",
    "        label = \"negative\"  # negative label\n",
    "    labeled_data.append({\"text\": text, \"label\": label})\n"
   ]
  },
  {
   "cell_type": "code",
   "execution_count": 8,
   "id": "91874f2e",
   "metadata": {},
   "outputs": [],
   "source": [
    "import pandas as pd\n",
    "from sklearn.model_selection import train_test_split\n",
    "\n",
    "# Split dataset into train and test sets\n",
    "train_data, test_data = train_test_split(labeled_data, test_size=0.2, random_state=42)\n",
    "\n",
    "# Convert train and test sets to DataFrames\n",
    "train_df = pd.DataFrame(train_data)\n",
    "test_df = pd.DataFrame(test_data)\n",
    "\n",
    "# Save train and test DataFrames to CSV\n",
    "train_df.to_csv('train_tldr_sentiment_data_small.csv', index=False)\n",
    "test_df.to_csv('test_tldr_sentiment_data_small.csv', index=False)"
   ]
  },
  {
   "cell_type": "code",
   "execution_count": null,
   "id": "c4130537",
   "metadata": {},
   "outputs": [],
   "source": []
  },
  {
   "cell_type": "code",
   "execution_count": null,
   "id": "cf778c62",
   "metadata": {},
   "outputs": [],
   "source": []
  }
 ],
 "metadata": {
  "kernelspec": {
   "display_name": "Python 3 (ipykernel)",
   "language": "python",
   "name": "python3"
  },
  "language_info": {
   "codemirror_mode": {
    "name": "ipython",
    "version": 3
   },
   "file_extension": ".py",
   "mimetype": "text/x-python",
   "name": "python",
   "nbconvert_exporter": "python",
   "pygments_lexer": "ipython3",
   "version": "3.11.5"
  }
 },
 "nbformat": 4,
 "nbformat_minor": 5
}
